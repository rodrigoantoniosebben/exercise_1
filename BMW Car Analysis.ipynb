{
 "cells": [
  {
   "cell_type": "markdown",
   "metadata": {},
   "source": [
    "## Introduction\n",
    "\n",
    "This project has the goal to analyse a list of bmw used cars sold during the last years. By so I will answer the following questions:\n",
    "\n",
    "1. Which is the most desirable model that BMW produce?\n",
    "2. Which model loose more market value?\n",
    "3. Which model gain more market value?"
   ]
  },
  {
   "cell_type": "code",
   "execution_count": 2,
   "metadata": {},
   "outputs": [],
   "source": [
    "import pandas as pd\n",
    "import matplotlib.pyplot as plt\n",
    "df = pd.read_csv('bmw.csv')"
   ]
  },
  {
   "cell_type": "markdown",
   "metadata": {},
   "source": [
    "At first it's importante to learn and clean the data"
   ]
  },
  {
   "cell_type": "code",
   "execution_count": 97,
   "metadata": {},
   "outputs": [
    {
     "data": {
      "text/html": [
       "<div>\n",
       "<style scoped>\n",
       "    .dataframe tbody tr th:only-of-type {\n",
       "        vertical-align: middle;\n",
       "    }\n",
       "\n",
       "    .dataframe tbody tr th {\n",
       "        vertical-align: top;\n",
       "    }\n",
       "\n",
       "    .dataframe thead th {\n",
       "        text-align: right;\n",
       "    }\n",
       "</style>\n",
       "<table border=\"1\" class=\"dataframe\">\n",
       "  <thead>\n",
       "    <tr style=\"text-align: right;\">\n",
       "      <th></th>\n",
       "      <th>model</th>\n",
       "      <th>year</th>\n",
       "      <th>price</th>\n",
       "      <th>transmission</th>\n",
       "      <th>mileage</th>\n",
       "      <th>fuelType</th>\n",
       "      <th>tax</th>\n",
       "      <th>mpg</th>\n",
       "      <th>engineSize</th>\n",
       "    </tr>\n",
       "  </thead>\n",
       "  <tbody>\n",
       "    <tr>\n",
       "      <th>0</th>\n",
       "      <td>5 Series</td>\n",
       "      <td>2014</td>\n",
       "      <td>11200</td>\n",
       "      <td>Automatic</td>\n",
       "      <td>67068</td>\n",
       "      <td>Diesel</td>\n",
       "      <td>125</td>\n",
       "      <td>57.6</td>\n",
       "      <td>2.0</td>\n",
       "    </tr>\n",
       "    <tr>\n",
       "      <th>1</th>\n",
       "      <td>6 Series</td>\n",
       "      <td>2018</td>\n",
       "      <td>27000</td>\n",
       "      <td>Automatic</td>\n",
       "      <td>14827</td>\n",
       "      <td>Petrol</td>\n",
       "      <td>145</td>\n",
       "      <td>42.8</td>\n",
       "      <td>2.0</td>\n",
       "    </tr>\n",
       "    <tr>\n",
       "      <th>2</th>\n",
       "      <td>5 Series</td>\n",
       "      <td>2016</td>\n",
       "      <td>16000</td>\n",
       "      <td>Automatic</td>\n",
       "      <td>62794</td>\n",
       "      <td>Diesel</td>\n",
       "      <td>160</td>\n",
       "      <td>51.4</td>\n",
       "      <td>3.0</td>\n",
       "    </tr>\n",
       "    <tr>\n",
       "      <th>3</th>\n",
       "      <td>1 Series</td>\n",
       "      <td>2017</td>\n",
       "      <td>12750</td>\n",
       "      <td>Automatic</td>\n",
       "      <td>26676</td>\n",
       "      <td>Diesel</td>\n",
       "      <td>145</td>\n",
       "      <td>72.4</td>\n",
       "      <td>1.5</td>\n",
       "    </tr>\n",
       "    <tr>\n",
       "      <th>4</th>\n",
       "      <td>7 Series</td>\n",
       "      <td>2014</td>\n",
       "      <td>14500</td>\n",
       "      <td>Automatic</td>\n",
       "      <td>39554</td>\n",
       "      <td>Diesel</td>\n",
       "      <td>160</td>\n",
       "      <td>50.4</td>\n",
       "      <td>3.0</td>\n",
       "    </tr>\n",
       "  </tbody>\n",
       "</table>\n",
       "</div>"
      ],
      "text/plain": [
       "       model  year  price transmission  mileage fuelType  tax   mpg  \\\n",
       "0   5 Series  2014  11200    Automatic    67068   Diesel  125  57.6   \n",
       "1   6 Series  2018  27000    Automatic    14827   Petrol  145  42.8   \n",
       "2   5 Series  2016  16000    Automatic    62794   Diesel  160  51.4   \n",
       "3   1 Series  2017  12750    Automatic    26676   Diesel  145  72.4   \n",
       "4   7 Series  2014  14500    Automatic    39554   Diesel  160  50.4   \n",
       "\n",
       "   engineSize  \n",
       "0         2.0  \n",
       "1         2.0  \n",
       "2         3.0  \n",
       "3         1.5  \n",
       "4         3.0  "
      ]
     },
     "execution_count": 97,
     "metadata": {},
     "output_type": "execute_result"
    }
   ],
   "source": [
    "df.head()"
   ]
  },
  {
   "cell_type": "code",
   "execution_count": 98,
   "metadata": {},
   "outputs": [
    {
     "name": "stdout",
     "output_type": "stream",
     "text": [
      "<class 'pandas.core.frame.DataFrame'>\n",
      "RangeIndex: 10781 entries, 0 to 10780\n",
      "Data columns (total 9 columns):\n",
      " #   Column        Non-Null Count  Dtype  \n",
      "---  ------        --------------  -----  \n",
      " 0   model         10781 non-null  object \n",
      " 1   year          10781 non-null  int64  \n",
      " 2   price         10781 non-null  int64  \n",
      " 3   transmission  10781 non-null  object \n",
      " 4   mileage       10781 non-null  int64  \n",
      " 5   fuelType      10781 non-null  object \n",
      " 6   tax           10781 non-null  int64  \n",
      " 7   mpg           10781 non-null  float64\n",
      " 8   engineSize    10781 non-null  float64\n",
      "dtypes: float64(2), int64(4), object(3)\n",
      "memory usage: 758.2+ KB\n"
     ]
    }
   ],
   "source": [
    "df.info()"
   ]
  },
  {
   "cell_type": "code",
   "execution_count": 99,
   "metadata": {},
   "outputs": [
    {
     "data": {
      "text/html": [
       "<div>\n",
       "<style scoped>\n",
       "    .dataframe tbody tr th:only-of-type {\n",
       "        vertical-align: middle;\n",
       "    }\n",
       "\n",
       "    .dataframe tbody tr th {\n",
       "        vertical-align: top;\n",
       "    }\n",
       "\n",
       "    .dataframe thead th {\n",
       "        text-align: right;\n",
       "    }\n",
       "</style>\n",
       "<table border=\"1\" class=\"dataframe\">\n",
       "  <thead>\n",
       "    <tr style=\"text-align: right;\">\n",
       "      <th></th>\n",
       "      <th>year</th>\n",
       "      <th>price</th>\n",
       "      <th>mileage</th>\n",
       "      <th>tax</th>\n",
       "      <th>mpg</th>\n",
       "      <th>engineSize</th>\n",
       "    </tr>\n",
       "  </thead>\n",
       "  <tbody>\n",
       "    <tr>\n",
       "      <th>count</th>\n",
       "      <td>10781.000000</td>\n",
       "      <td>10781.000000</td>\n",
       "      <td>10781.000000</td>\n",
       "      <td>10781.000000</td>\n",
       "      <td>10781.000000</td>\n",
       "      <td>10781.000000</td>\n",
       "    </tr>\n",
       "    <tr>\n",
       "      <th>mean</th>\n",
       "      <td>2017.078935</td>\n",
       "      <td>22733.408867</td>\n",
       "      <td>25496.986550</td>\n",
       "      <td>131.702068</td>\n",
       "      <td>56.399035</td>\n",
       "      <td>2.167767</td>\n",
       "    </tr>\n",
       "    <tr>\n",
       "      <th>std</th>\n",
       "      <td>2.349038</td>\n",
       "      <td>11415.528189</td>\n",
       "      <td>25143.192559</td>\n",
       "      <td>61.510755</td>\n",
       "      <td>31.336958</td>\n",
       "      <td>0.552054</td>\n",
       "    </tr>\n",
       "    <tr>\n",
       "      <th>min</th>\n",
       "      <td>1996.000000</td>\n",
       "      <td>1200.000000</td>\n",
       "      <td>1.000000</td>\n",
       "      <td>0.000000</td>\n",
       "      <td>5.500000</td>\n",
       "      <td>0.000000</td>\n",
       "    </tr>\n",
       "    <tr>\n",
       "      <th>25%</th>\n",
       "      <td>2016.000000</td>\n",
       "      <td>14950.000000</td>\n",
       "      <td>5529.000000</td>\n",
       "      <td>135.000000</td>\n",
       "      <td>45.600000</td>\n",
       "      <td>2.000000</td>\n",
       "    </tr>\n",
       "    <tr>\n",
       "      <th>50%</th>\n",
       "      <td>2017.000000</td>\n",
       "      <td>20462.000000</td>\n",
       "      <td>18347.000000</td>\n",
       "      <td>145.000000</td>\n",
       "      <td>53.300000</td>\n",
       "      <td>2.000000</td>\n",
       "    </tr>\n",
       "    <tr>\n",
       "      <th>75%</th>\n",
       "      <td>2019.000000</td>\n",
       "      <td>27940.000000</td>\n",
       "      <td>38206.000000</td>\n",
       "      <td>145.000000</td>\n",
       "      <td>62.800000</td>\n",
       "      <td>2.000000</td>\n",
       "    </tr>\n",
       "    <tr>\n",
       "      <th>max</th>\n",
       "      <td>2020.000000</td>\n",
       "      <td>123456.000000</td>\n",
       "      <td>214000.000000</td>\n",
       "      <td>580.000000</td>\n",
       "      <td>470.800000</td>\n",
       "      <td>6.600000</td>\n",
       "    </tr>\n",
       "  </tbody>\n",
       "</table>\n",
       "</div>"
      ],
      "text/plain": [
       "               year          price        mileage           tax           mpg  \\\n",
       "count  10781.000000   10781.000000   10781.000000  10781.000000  10781.000000   \n",
       "mean    2017.078935   22733.408867   25496.986550    131.702068     56.399035   \n",
       "std        2.349038   11415.528189   25143.192559     61.510755     31.336958   \n",
       "min     1996.000000    1200.000000       1.000000      0.000000      5.500000   \n",
       "25%     2016.000000   14950.000000    5529.000000    135.000000     45.600000   \n",
       "50%     2017.000000   20462.000000   18347.000000    145.000000     53.300000   \n",
       "75%     2019.000000   27940.000000   38206.000000    145.000000     62.800000   \n",
       "max     2020.000000  123456.000000  214000.000000    580.000000    470.800000   \n",
       "\n",
       "         engineSize  \n",
       "count  10781.000000  \n",
       "mean       2.167767  \n",
       "std        0.552054  \n",
       "min        0.000000  \n",
       "25%        2.000000  \n",
       "50%        2.000000  \n",
       "75%        2.000000  \n",
       "max        6.600000  "
      ]
     },
     "execution_count": 99,
     "metadata": {},
     "output_type": "execute_result"
    }
   ],
   "source": [
    "df.describe()"
   ]
  },
  {
   "cell_type": "markdown",
   "metadata": {},
   "source": [
    "As seend there's no need to clean the data, as no NaN was found, so let's start our analysis. \n",
    "\n",
    "### Q.1 Which is the most desirable model that BMW produce?"
   ]
  },
  {
   "cell_type": "code",
   "execution_count": 3,
   "metadata": {},
   "outputs": [
    {
     "data": {
      "image/png": "[encoded data removed]",
      "text/plain": [
       "<Figure size 432x288 with 1 Axes>"
      ]
     },
     "metadata": {
      "needs_background": "light"
     },
     "output_type": "display_data"
    }
   ],
   "source": [
    "#At first lest get the amount of sales p/ year to latter understand the percentege per car\n",
    "by_year_model = df.groupby(['year'])['model']\n",
    "\n",
    "by_year_model.size().plot(kind=\"bar\");\n",
    "plt.title(\"Total Sales p/ year\");"
   ]
  },
  {
   "cell_type": "code",
   "execution_count": 4,
   "metadata": {},
   "outputs": [
    {
     "data": {
      "text/html": [
       "<div>\n",
       "<style scoped>\n",
       "    .dataframe tbody tr th:only-of-type {\n",
       "        vertical-align: middle;\n",
       "    }\n",
       "\n",
       "    .dataframe tbody tr th {\n",
       "        vertical-align: top;\n",
       "    }\n",
       "\n",
       "    .dataframe thead th {\n",
       "        text-align: right;\n",
       "    }\n",
       "</style>\n",
       "<table border=\"1\" class=\"dataframe\">\n",
       "  <thead>\n",
       "    <tr style=\"text-align: right;\">\n",
       "      <th></th>\n",
       "      <th>model</th>\n",
       "      <th>perc</th>\n",
       "      <th>sells</th>\n",
       "    </tr>\n",
       "  </thead>\n",
       "  <tbody>\n",
       "    <tr>\n",
       "      <th>2016</th>\n",
       "      <td>1 Series</td>\n",
       "      <td>0.230606</td>\n",
       "      <td>434</td>\n",
       "    </tr>\n",
       "    <tr>\n",
       "      <th>2017</th>\n",
       "      <td>1 Series</td>\n",
       "      <td>0.240558</td>\n",
       "      <td>414</td>\n",
       "    </tr>\n",
       "    <tr>\n",
       "      <th>2018</th>\n",
       "      <td>3 Series</td>\n",
       "      <td>0.250000</td>\n",
       "      <td>212</td>\n",
       "    </tr>\n",
       "    <tr>\n",
       "      <th>2019</th>\n",
       "      <td>3 Series</td>\n",
       "      <td>0.188809</td>\n",
       "      <td>658</td>\n",
       "    </tr>\n",
       "    <tr>\n",
       "      <th>2020</th>\n",
       "      <td>3 Series</td>\n",
       "      <td>0.207367</td>\n",
       "      <td>152</td>\n",
       "    </tr>\n",
       "  </tbody>\n",
       "</table>\n",
       "</div>"
      ],
      "text/plain": [
       "          model      perc  sells\n",
       "2016   1 Series  0.230606    434\n",
       "2017   1 Series  0.240558    414\n",
       "2018   3 Series  0.250000    212\n",
       "2019   3 Series  0.188809    658\n",
       "2020   3 Series  0.207367    152"
      ]
     },
     "execution_count": 4,
     "metadata": {},
     "output_type": "execute_result"
    }
   ],
   "source": [
    "#Then we try to find which car was most selled by year\n",
    "values = {\n",
    "  'model': [],\n",
    "  'perc': [],\n",
    "  'sells': [],\n",
    "}\n",
    "years = sorted(df.year.unique())\n",
    "\n",
    "for year in years:\n",
    "  models = by_year_model.get_group(year).value_counts(sort=True, ascending=False)\n",
    "  values['model'].append(models.keys()[0])\n",
    "  values['sells'].append(models[0])\n",
    "  values['perc'].append(models[0]/models.sum())\n",
    "\n",
    "x = pd.DataFrame(values, index=years)\n",
    "x.tail()"
   ]
  },
  {
   "cell_type": "code",
   "execution_count": 5,
   "metadata": {},
   "outputs": [
    {
     "data": {
      "image/png": "[encoded data removed]",
      "text/plain": [
       "<Figure size 432x288 with 2 Axes>"
      ]
     },
     "metadata": {
      "needs_background": "light"
     },
     "output_type": "display_data"
    }
   ],
   "source": [
    "#Then we plot the dominance. Which car model was most sold more times\n",
    "most_sold = x.groupby(['model']).size().sort_values(ascending=False)\n",
    "total = most_sold.sum()\n",
    "avg_sold = (most_sold/total)\n",
    "\n",
    "fig, ax1 = plt.subplots()\n",
    "ax1.bar(most_sold.index, most_sold)\n",
    "ax2 = ax1.twinx()\n",
    "ax2.plot(avg_sold.index, avg_sold, color=\"red\")\n",
    "fig.tight_layout()\n",
    "ax1.set_title('Car Dominance', color='red')\n",
    "plt.show()\n"
   ]
  },
  {
   "cell_type": "markdown",
   "metadata": {},
   "source": [
    "### Q.2 Which model loose more market value?"
   ]
  },
  {
   "cell_type": "code",
   "execution_count": 6,
   "metadata": {},
   "outputs": [
    {
     "data": {
      "text/html": [
       "<div>\n",
       "<style scoped>\n",
       "    .dataframe tbody tr th:only-of-type {\n",
       "        vertical-align: middle;\n",
       "    }\n",
       "\n",
       "    .dataframe tbody tr th {\n",
       "        vertical-align: top;\n",
       "    }\n",
       "\n",
       "    .dataframe thead th {\n",
       "        text-align: right;\n",
       "    }\n",
       "</style>\n",
       "<table border=\"1\" class=\"dataframe\">\n",
       "  <thead>\n",
       "    <tr style=\"text-align: right;\">\n",
       "      <th></th>\n",
       "      <th></th>\n",
       "      <th>price</th>\n",
       "    </tr>\n",
       "    <tr>\n",
       "      <th>year</th>\n",
       "      <th>model</th>\n",
       "      <th></th>\n",
       "    </tr>\n",
       "  </thead>\n",
       "  <tbody>\n",
       "    <tr>\n",
       "      <th rowspan=\"5\" valign=\"top\">2014</th>\n",
       "      <th>5 Series</th>\n",
       "      <td>13237.924242</td>\n",
       "    </tr>\n",
       "    <tr>\n",
       "      <th>6 Series</th>\n",
       "      <td>17215.222222</td>\n",
       "    </tr>\n",
       "    <tr>\n",
       "      <th>1 Series</th>\n",
       "      <td>11076.834783</td>\n",
       "    </tr>\n",
       "    <tr>\n",
       "      <th>7 Series</th>\n",
       "      <td>16339.375000</td>\n",
       "    </tr>\n",
       "    <tr>\n",
       "      <th>2 Series</th>\n",
       "      <td>12786.190476</td>\n",
       "    </tr>\n",
       "  </tbody>\n",
       "</table>\n",
       "</div>"
      ],
      "text/plain": [
       "                       price\n",
       "year model                  \n",
       "2014  5 Series  13237.924242\n",
       "      6 Series  17215.222222\n",
       "      1 Series  11076.834783\n",
       "      7 Series  16339.375000\n",
       "      2 Series  12786.190476"
      ]
     },
     "execution_count": 6,
     "metadata": {},
     "output_type": "execute_result"
    }
   ],
   "source": [
    "#At first we need to manipulate ower data to the desierd format, in order to make it possible to analyse it.\n",
    "years = df.year.unique()\n",
    "models = df.model.unique()\n",
    "\n",
    "prices = df.groupby(['year','model'])['price'].mean()\n",
    "avg_prices = pd.DataFrame(prices, index=pd.MultiIndex.from_product([years, models], names=['year', 'model']))\n",
    "avg_prices.fillna(value=0, inplace=True)\n",
    "avg_prices.head()\n",
    "\n"
   ]
  },
  {
   "cell_type": "code",
   "execution_count": 9,
   "metadata": {},
   "outputs": [
    {
     "data": {
      "text/html": [
       "<div>\n",
       "<style scoped>\n",
       "    .dataframe tbody tr th:only-of-type {\n",
       "        vertical-align: middle;\n",
       "    }\n",
       "\n",
       "    .dataframe tbody tr th {\n",
       "        vertical-align: top;\n",
       "    }\n",
       "\n",
       "    .dataframe thead th {\n",
       "        text-align: right;\n",
       "    }\n",
       "</style>\n",
       "<table border=\"1\" class=\"dataframe\">\n",
       "  <thead>\n",
       "    <tr style=\"text-align: right;\">\n",
       "      <th></th>\n",
       "      <th>model</th>\n",
       "      <th>price</th>\n",
       "      <th>drop</th>\n",
       "      <th>drop_perc</th>\n",
       "    </tr>\n",
       "    <tr>\n",
       "      <th>year</th>\n",
       "      <th></th>\n",
       "      <th></th>\n",
       "      <th></th>\n",
       "      <th></th>\n",
       "    </tr>\n",
       "  </thead>\n",
       "  <tbody>\n",
       "    <tr>\n",
       "      <th>2014</th>\n",
       "      <td>5 Series</td>\n",
       "      <td>13237.924242</td>\n",
       "      <td>791.036542</td>\n",
       "      <td>0.056386</td>\n",
       "    </tr>\n",
       "    <tr>\n",
       "      <th>2014</th>\n",
       "      <td>6 Series</td>\n",
       "      <td>17215.222222</td>\n",
       "      <td>3567.611111</td>\n",
       "      <td>0.171661</td>\n",
       "    </tr>\n",
       "    <tr>\n",
       "      <th>2014</th>\n",
       "      <td>1 Series</td>\n",
       "      <td>11076.834783</td>\n",
       "      <td>537.723728</td>\n",
       "      <td>0.046297</td>\n",
       "    </tr>\n",
       "    <tr>\n",
       "      <th>2014</th>\n",
       "      <td>7 Series</td>\n",
       "      <td>16339.375000</td>\n",
       "      <td>6140.291667</td>\n",
       "      <td>0.273149</td>\n",
       "    </tr>\n",
       "    <tr>\n",
       "      <th>2014</th>\n",
       "      <td>2 Series</td>\n",
       "      <td>12786.190476</td>\n",
       "      <td>1630.167419</td>\n",
       "      <td>0.113078</td>\n",
       "    </tr>\n",
       "  </tbody>\n",
       "</table>\n",
       "</div>"
      ],
      "text/plain": [
       "          model         price         drop  drop_perc\n",
       "year                                                 \n",
       "2014   5 Series  13237.924242   791.036542   0.056386\n",
       "2014   6 Series  17215.222222  3567.611111   0.171661\n",
       "2014   1 Series  11076.834783   537.723728   0.046297\n",
       "2014   7 Series  16339.375000  6140.291667   0.273149\n",
       "2014   2 Series  12786.190476  1630.167419   0.113078"
      ]
     },
     "execution_count": 9,
     "metadata": {},
     "output_type": "execute_result"
    }
   ],
   "source": [
    "drop = []\n",
    "drop_perc = []\n",
    "\n",
    "for year in years:\n",
    "  for model in models:\n",
    "    if (year == 2020):\n",
    "      drop.append(0)    \n",
    "      drop_perc.append(0)\n",
    "      continue\n",
    "    cur_price = avg_prices.loc[year, model]['price']\n",
    "    older_price = avg_prices.loc[year + 1, model]['price']\n",
    "    if (older_price > 0 and cur_price > 0):\n",
    "      d = older_price - cur_price\n",
    "      d_perc = d/older_price\n",
    "\n",
    "      drop.append(d)\n",
    "      drop_perc.append(d_perc)\n",
    "    else:\n",
    "      drop.append(0)    \n",
    "      drop_perc.append(0)\n",
    "\n",
    "\n",
    "avg_prices['drop'] = drop\n",
    "avg_prices['drop_perc'] = drop_perc\n",
    "\n",
    "avg_prices.reset_index(level=['model'], inplace=True)\n",
    "avg_prices.head()"
   ]
  },
  {
   "cell_type": "code",
   "execution_count": 19,
   "metadata": {},
   "outputs": [
    {
     "data": {
      "text/html": [
       "<div>\n",
       "<style scoped>\n",
       "    .dataframe tbody tr th:only-of-type {\n",
       "        vertical-align: middle;\n",
       "    }\n",
       "\n",
       "    .dataframe tbody tr th {\n",
       "        vertical-align: top;\n",
       "    }\n",
       "\n",
       "    .dataframe thead th {\n",
       "        text-align: right;\n",
       "    }\n",
       "</style>\n",
       "<table border=\"1\" class=\"dataframe\">\n",
       "  <thead>\n",
       "    <tr style=\"text-align: right;\">\n",
       "      <th></th>\n",
       "      <th>model</th>\n",
       "      <th>price</th>\n",
       "      <th>drop</th>\n",
       "      <th>drop_perc</th>\n",
       "    </tr>\n",
       "    <tr>\n",
       "      <th>year</th>\n",
       "      <th></th>\n",
       "      <th></th>\n",
       "      <th></th>\n",
       "      <th></th>\n",
       "    </tr>\n",
       "  </thead>\n",
       "  <tbody>\n",
       "    <tr>\n",
       "      <th>2020</th>\n",
       "      <td>M3</td>\n",
       "      <td>0.0</td>\n",
       "      <td>0.0</td>\n",
       "      <td>0.000000</td>\n",
       "    </tr>\n",
       "    <tr>\n",
       "      <th>2019</th>\n",
       "      <td>M3</td>\n",
       "      <td>62995.0</td>\n",
       "      <td>0.0</td>\n",
       "      <td>0.000000</td>\n",
       "    </tr>\n",
       "    <tr>\n",
       "      <th>2018</th>\n",
       "      <td>M3</td>\n",
       "      <td>40294.5</td>\n",
       "      <td>22700.5</td>\n",
       "      <td>0.360354</td>\n",
       "    </tr>\n",
       "    <tr>\n",
       "      <th>2017</th>\n",
       "      <td>M3</td>\n",
       "      <td>41025.6</td>\n",
       "      <td>-731.1</td>\n",
       "      <td>-0.018144</td>\n",
       "    </tr>\n",
       "    <tr>\n",
       "      <th>2016</th>\n",
       "      <td>M3</td>\n",
       "      <td>33750.0</td>\n",
       "      <td>7275.6</td>\n",
       "      <td>0.177343</td>\n",
       "    </tr>\n",
       "  </tbody>\n",
       "</table>\n",
       "</div>"
      ],
      "text/plain": [
       "     model    price     drop  drop_perc\n",
       "year                                   \n",
       "2020    M3      0.0      0.0   0.000000\n",
       "2019    M3  62995.0      0.0   0.000000\n",
       "2018    M3  40294.5  22700.5   0.360354\n",
       "2017    M3  41025.6   -731.1  -0.018144\n",
       "2016    M3  33750.0   7275.6   0.177343"
      ]
     },
     "execution_count": 19,
     "metadata": {},
     "output_type": "execute_result"
    }
   ],
   "source": [
    "#then we try to find the max values and it's index\n",
    "max = avg_prices[avg_prices['drop'] == avg_prices['drop'].max()]\n",
    "model = avg_prices[avg_prices.model == max.model.values[0]].sort_values(by=['year'], ascending=False)\n",
    "\n",
    "model.head()"
   ]
  },
  {
   "cell_type": "code",
   "execution_count": 25,
   "metadata": {},
   "outputs": [
    {
     "data": {
      "image/png": "[encoded data removed]",
      "text/plain": [
       "<Figure size 432x288 with 2 Axes>"
      ]
     },
     "metadata": {
      "needs_background": "light"
     },
     "output_type": "display_data"
    }
   ],
   "source": [
    "fig, ax1 = plt.subplots()\n",
    "ax1.bar(model.index, model.price)\n",
    "ax2 = ax1.twinx()\n",
    "ax2.plot(model.index, model['drop'], color=\"red\")\n",
    "fig.tight_layout()\n",
    "ax1.set_title(max.model.values[0] + ' Behavior', color='red')\n",
    "plt.show()"
   ]
  },
  {
   "cell_type": "code",
   "execution_count": 26,
   "metadata": {},
   "outputs": [
    {
     "data": {
      "text/html": [
       "<div>\n",
       "<style scoped>\n",
       "    .dataframe tbody tr th:only-of-type {\n",
       "        vertical-align: middle;\n",
       "    }\n",
       "\n",
       "    .dataframe tbody tr th {\n",
       "        vertical-align: top;\n",
       "    }\n",
       "\n",
       "    .dataframe thead th {\n",
       "        text-align: right;\n",
       "    }\n",
       "</style>\n",
       "<table border=\"1\" class=\"dataframe\">\n",
       "  <thead>\n",
       "    <tr style=\"text-align: right;\">\n",
       "      <th></th>\n",
       "      <th>model</th>\n",
       "      <th>price</th>\n",
       "      <th>drop</th>\n",
       "      <th>drop_perc</th>\n",
       "    </tr>\n",
       "    <tr>\n",
       "      <th>year</th>\n",
       "      <th></th>\n",
       "      <th></th>\n",
       "      <th></th>\n",
       "      <th></th>\n",
       "    </tr>\n",
       "  </thead>\n",
       "  <tbody>\n",
       "    <tr>\n",
       "      <th>2000</th>\n",
       "      <td>M3</td>\n",
       "      <td>0.0</td>\n",
       "      <td>0.0</td>\n",
       "      <td>0.0</td>\n",
       "    </tr>\n",
       "    <tr>\n",
       "      <th>1999</th>\n",
       "      <td>M3</td>\n",
       "      <td>0.0</td>\n",
       "      <td>0.0</td>\n",
       "      <td>0.0</td>\n",
       "    </tr>\n",
       "    <tr>\n",
       "      <th>1998</th>\n",
       "      <td>M3</td>\n",
       "      <td>0.0</td>\n",
       "      <td>0.0</td>\n",
       "      <td>0.0</td>\n",
       "    </tr>\n",
       "    <tr>\n",
       "      <th>1997</th>\n",
       "      <td>M3</td>\n",
       "      <td>0.0</td>\n",
       "      <td>0.0</td>\n",
       "      <td>0.0</td>\n",
       "    </tr>\n",
       "    <tr>\n",
       "      <th>1996</th>\n",
       "      <td>M3</td>\n",
       "      <td>0.0</td>\n",
       "      <td>0.0</td>\n",
       "      <td>0.0</td>\n",
       "    </tr>\n",
       "  </tbody>\n",
       "</table>\n",
       "</div>"
      ],
      "text/plain": [
       "     model  price  drop  drop_perc\n",
       "year                              \n",
       "2000    M3    0.0   0.0        0.0\n",
       "1999    M3    0.0   0.0        0.0\n",
       "1998    M3    0.0   0.0        0.0\n",
       "1997    M3    0.0   0.0        0.0\n",
       "1996    M3    0.0   0.0        0.0"
      ]
     },
     "execution_count": 26,
     "metadata": {},
     "output_type": "execute_result"
    }
   ],
   "source": [
    "#then we try to find the max values and it's index\n",
    "max = avg_prices[avg_prices['drop'] == avg_prices['drop'].max()]\n",
    "model = avg_prices[avg_prices.model == max.model.values[0]].sort_values(by=['year'], ascending=False)\n",
    "\n",
    "model.tail()"
   ]
  },
  {
   "cell_type": "code",
   "execution_count": 23,
   "metadata": {},
   "outputs": [
    {
     "data": {
      "image/png": "[encoded data removed]",
      "text/plain": [
       "<Figure size 432x288 with 2 Axes>"
      ]
     },
     "metadata": {
      "needs_background": "light"
     },
     "output_type": "display_data"
    }
   ],
   "source": [
    "fig, ax1 = plt.subplots()\n",
    "ax1.bar(model.index, model.price)\n",
    "ax2 = ax1.twinx()\n",
    "ax2.plot(model.index, model['drop_perc'], color=\"red\")\n",
    "fig.tight_layout()\n",
    "ax1.set_title(max.model.values[0] + ' Behaviour', color='red')\n",
    "plt.show()"
   ]
  },
  {
   "cell_type": "markdown",
   "metadata": {},
   "source": [
    "### Q.2 Which model gain more market value?"
   ]
  },
  {
   "cell_type": "code",
   "execution_count": 17,
   "metadata": {},
   "outputs": [
    {
     "data": {
      "text/html": [
       "<div>\n",
       "<style scoped>\n",
       "    .dataframe tbody tr th:only-of-type {\n",
       "        vertical-align: middle;\n",
       "    }\n",
       "\n",
       "    .dataframe tbody tr th {\n",
       "        vertical-align: top;\n",
       "    }\n",
       "\n",
       "    .dataframe thead th {\n",
       "        text-align: right;\n",
       "    }\n",
       "</style>\n",
       "<table border=\"1\" class=\"dataframe\">\n",
       "  <thead>\n",
       "    <tr style=\"text-align: right;\">\n",
       "      <th></th>\n",
       "      <th>model</th>\n",
       "      <th>price</th>\n",
       "      <th>drop</th>\n",
       "      <th>drop_perc</th>\n",
       "    </tr>\n",
       "    <tr>\n",
       "      <th>year</th>\n",
       "      <th></th>\n",
       "      <th></th>\n",
       "      <th></th>\n",
       "      <th></th>\n",
       "    </tr>\n",
       "  </thead>\n",
       "  <tbody>\n",
       "    <tr>\n",
       "      <th>2020</th>\n",
       "      <td>5 Series</td>\n",
       "      <td>33138.184615</td>\n",
       "      <td>0.000000</td>\n",
       "      <td>0.000000</td>\n",
       "    </tr>\n",
       "    <tr>\n",
       "      <th>2019</th>\n",
       "      <td>5 Series</td>\n",
       "      <td>30820.024024</td>\n",
       "      <td>2318.160591</td>\n",
       "      <td>0.069954</td>\n",
       "    </tr>\n",
       "    <tr>\n",
       "      <th>2018</th>\n",
       "      <td>5 Series</td>\n",
       "      <td>25916.876543</td>\n",
       "      <td>4903.147481</td>\n",
       "      <td>0.159090</td>\n",
       "    </tr>\n",
       "    <tr>\n",
       "      <th>2017</th>\n",
       "      <td>5 Series</td>\n",
       "      <td>22493.265823</td>\n",
       "      <td>3423.610720</td>\n",
       "      <td>0.132100</td>\n",
       "    </tr>\n",
       "    <tr>\n",
       "      <th>2016</th>\n",
       "      <td>5 Series</td>\n",
       "      <td>15582.209581</td>\n",
       "      <td>6911.056242</td>\n",
       "      <td>0.307250</td>\n",
       "    </tr>\n",
       "  </tbody>\n",
       "</table>\n",
       "</div>"
      ],
      "text/plain": [
       "          model         price         drop  drop_perc\n",
       "year                                                 \n",
       "2020   5 Series  33138.184615     0.000000   0.000000\n",
       "2019   5 Series  30820.024024  2318.160591   0.069954\n",
       "2018   5 Series  25916.876543  4903.147481   0.159090\n",
       "2017   5 Series  22493.265823  3423.610720   0.132100\n",
       "2016   5 Series  15582.209581  6911.056242   0.307250"
      ]
     },
     "execution_count": 17,
     "metadata": {},
     "output_type": "execute_result"
    }
   ],
   "source": [
    "#Once the data is prepared it's importante to find out the model that has the max negative drop price\n",
    "min = avg_prices[avg_prices['drop'] == avg_prices['drop'].min()]\n",
    "model = avg_prices[avg_prices.model == min.model.values[0]].sort_values(by=['year'], ascending=False)\n",
    "\n",
    "model.head()"
   ]
  },
  {
   "cell_type": "code",
   "execution_count": 18,
   "metadata": {},
   "outputs": [
    {
     "data": {
      "image/png": "[encoded data removed]",
      "text/plain": [
       "<Figure size 432x288 with 2 Axes>"
      ]
     },
     "metadata": {
      "needs_background": "light"
     },
     "output_type": "display_data"
    }
   ],
   "source": [
    "fig, ax1 = plt.subplots()\n",
    "ax1.bar(model.index, model.price)\n",
    "ax2 = ax1.twinx()\n",
    "ax2.plot(model.index, model['drop'], color=\"red\")\n",
    "fig.tight_layout()\n",
    "ax1.set_title(min.model.values[0] + ' Behaviour', color='red')\n",
    "plt.show()"
   ]
  },
  {
   "cell_type": "code",
   "execution_count": 15,
   "metadata": {},
   "outputs": [
    {
     "data": {
      "text/html": [
       "<div>\n",
       "<style scoped>\n",
       "    .dataframe tbody tr th:only-of-type {\n",
       "        vertical-align: middle;\n",
       "    }\n",
       "\n",
       "    .dataframe tbody tr th {\n",
       "        vertical-align: top;\n",
       "    }\n",
       "\n",
       "    .dataframe thead th {\n",
       "        text-align: right;\n",
       "    }\n",
       "</style>\n",
       "<table border=\"1\" class=\"dataframe\">\n",
       "  <thead>\n",
       "    <tr style=\"text-align: right;\">\n",
       "      <th></th>\n",
       "      <th>model</th>\n",
       "      <th>price</th>\n",
       "      <th>drop</th>\n",
       "      <th>drop_perc</th>\n",
       "    </tr>\n",
       "    <tr>\n",
       "      <th>year</th>\n",
       "      <th></th>\n",
       "      <th></th>\n",
       "      <th></th>\n",
       "      <th></th>\n",
       "    </tr>\n",
       "  </thead>\n",
       "  <tbody>\n",
       "    <tr>\n",
       "      <th>2020</th>\n",
       "      <td>5 Series</td>\n",
       "      <td>33138.184615</td>\n",
       "      <td>0.000000</td>\n",
       "      <td>0.000000</td>\n",
       "    </tr>\n",
       "    <tr>\n",
       "      <th>2019</th>\n",
       "      <td>5 Series</td>\n",
       "      <td>30820.024024</td>\n",
       "      <td>2318.160591</td>\n",
       "      <td>0.069954</td>\n",
       "    </tr>\n",
       "    <tr>\n",
       "      <th>2018</th>\n",
       "      <td>5 Series</td>\n",
       "      <td>25916.876543</td>\n",
       "      <td>4903.147481</td>\n",
       "      <td>0.159090</td>\n",
       "    </tr>\n",
       "    <tr>\n",
       "      <th>2017</th>\n",
       "      <td>5 Series</td>\n",
       "      <td>22493.265823</td>\n",
       "      <td>3423.610720</td>\n",
       "      <td>0.132100</td>\n",
       "    </tr>\n",
       "    <tr>\n",
       "      <th>2016</th>\n",
       "      <td>5 Series</td>\n",
       "      <td>15582.209581</td>\n",
       "      <td>6911.056242</td>\n",
       "      <td>0.307250</td>\n",
       "    </tr>\n",
       "  </tbody>\n",
       "</table>\n",
       "</div>"
      ],
      "text/plain": [
       "          model         price         drop  drop_perc\n",
       "year                                                 \n",
       "2020   5 Series  33138.184615     0.000000   0.000000\n",
       "2019   5 Series  30820.024024  2318.160591   0.069954\n",
       "2018   5 Series  25916.876543  4903.147481   0.159090\n",
       "2017   5 Series  22493.265823  3423.610720   0.132100\n",
       "2016   5 Series  15582.209581  6911.056242   0.307250"
      ]
     },
     "execution_count": 15,
     "metadata": {},
     "output_type": "execute_result"
    }
   ],
   "source": [
    "#Once the data is prepared it's importante to find out the model that has the max negative drop_perc price\n",
    "min = avg_prices[avg_prices['drop_perc'] == avg_prices['drop_perc'].min()]\n",
    "model = avg_prices[avg_prices.model == min.model.values[0]].sort_values(by=['year'], ascending=False)\n",
    "\n",
    "model.head()"
   ]
  },
  {
   "cell_type": "code",
   "execution_count": 16,
   "metadata": {},
   "outputs": [
    {
     "data": {
      "image/png": "[encoded data removed]",
      "text/plain": [
       "<Figure size 432x288 with 2 Axes>"
      ]
     },
     "metadata": {
      "needs_background": "light"
     },
     "output_type": "display_data"
    }
   ],
   "source": [
    "fig, ax1 = plt.subplots()\n",
    "ax1.bar(model.index, model.price)\n",
    "ax2 = ax1.twinx()\n",
    "ax2.plot(model.index, model['drop_perc'], color=\"red\")\n",
    "fig.tight_layout()\n",
    "ax1.set_title(min.model.values[0] + ' Behaviour', color='red')\n",
    "plt.show()"
   ]
  }
 ],
 "metadata": {
  "interpreter": {
   "hash": "31f2aee4e71d21fbe5cf8b01ff0e069b9275f58929596ceb00d14d90e3e16cd6"
  },
  "kernelspec": {
   "display_name": "Python 3.8.9 64-bit",
   "language": "python",
   "name": "python3"
  },
  "language_info": {
   "codemirror_mode": {
    "name": "ipython",
    "version": 3
   },
   "file_extension": ".py",
   "mimetype": "text/x-python",
   "name": "python",
   "nbconvert_exporter": "python",
   "pygments_lexer": "ipython3",
   "version": "3.8.9"
  },
  "orig_nbformat": 4
 },
 "nbformat": 4,
 "nbformat_minor": 2
}
